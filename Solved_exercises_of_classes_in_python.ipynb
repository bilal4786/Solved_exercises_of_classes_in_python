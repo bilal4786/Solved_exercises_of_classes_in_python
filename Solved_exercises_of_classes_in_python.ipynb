{
 "cells": [
  {
   "cell_type": "markdown",
   "id": "81a365e3",
   "metadata": {},
   "source": [
    "# Classes in Python: A Comprehensive Guide\n",
    "\n",
    "## Introduction\n",
    "### In Python, classes are a fundamental building block for object-oriented programming (OOP). OOP is a programming paradigm that uses objects and classes to model real-world scenarios. They allow you to create user-defined data structures that encapsulate both data (attributes) and behavior (methods). This encapsulation promotes code reusability, modularity, and maintainability."
   ]
  },
  {
   "cell_type": "markdown",
   "id": "0a0d6649",
   "metadata": {},
   "source": [
    "## Key Concepts\n",
    "### Class: A blueprint for creating objects. It defines the attributes and methods that objects of that class will possess.\n",
    "### Object: An instance of a class. It has its own unique set of attribute values.\n",
    "### Attributes: Variables that store data associated with an object.\n",
    "### Methods: Functions that operate on the object's data.\n",
    "### Constructor: A special method called __init__ that is automatically invoked when an object is created. It initializes the object's attributes.\n",
    "## Creating a Class and Object"
   ]
  },
  {
   "cell_type": "code",
   "execution_count": 1,
   "id": "0239378a",
   "metadata": {},
   "outputs": [
    {
     "name": "stdout",
     "output_type": "stream",
     "text": [
      "Buddy\n",
      "Buddy barks!\n"
     ]
    }
   ],
   "source": [
    "class Dog:\n",
    "    def __init__(self, name, breed):\n",
    "        self.name = name\n",
    "        self.breed = breed\n",
    "\n",
    "    def bark(self):\n",
    "        print(f\"{self.name} barks!\")\n",
    "\n",
    "# Create an object of the Dog class\n",
    "my_dog = Dog(\"Buddy\", \"Golden Retriever\")\n",
    "\n",
    "# Access attributes and call methods\n",
    "print(my_dog.name)  # Output: Buddy\n",
    "my_dog.bark()  # Output: Buddy barks!"
   ]
  },
  {
   "cell_type": "markdown",
   "id": "db04f438",
   "metadata": {},
   "source": [
    "## Inheritance\n",
    "### Inheritance allows you to create new classes (child classes) that inherit attributes and methods from existing classes (parent classes). This promotes code reuse and hierarchical relationships between classes."
   ]
  },
  {
   "cell_type": "code",
   "execution_count": 2,
   "id": "9dcf9e3a",
   "metadata": {},
   "outputs": [
    {
     "name": "stdout",
     "output_type": "stream",
     "text": [
      "Buddy is eating.\n",
      "Buddy barks!\n"
     ]
    }
   ],
   "source": [
    "class Animal:\n",
    "    def __init__(self, name):\n",
    "        self.name = name\n",
    "\n",
    "    def eat(self):\n",
    "        print(f\"{self.name} is eating.\")\n",
    "\n",
    "class Dog(Animal):\n",
    "    def bark(self):\n",
    "        print(f\"{self.name} barks!\")\n",
    "\n",
    "my_dog = Dog(\"Buddy\")\n",
    "my_dog.eat()  # Output: Buddy is eating.\n",
    "my_dog.bark()  # Output: Buddy barks!"
   ]
  },
  {
   "cell_type": "markdown",
   "id": "d76e9927",
   "metadata": {},
   "source": [
    "## Encapsulation\n",
    "### Encapsulation is the practice of hiding the internal implementation details of a class from the outside world. This promotes code modularity and prevents unintended modifications."
   ]
  },
  {
   "cell_type": "code",
   "execution_count": 3,
   "id": "788a14d6",
   "metadata": {},
   "outputs": [],
   "source": [
    "class BankAccount:\n",
    "    def __init__(self, balance):\n",
    "        self.__balance = balance  # Private attribute\n",
    "\n",
    "    def deposit(self, amount):\n",
    "        self.__balance += amount\n",
    "\n",
    "    def withdraw(self, amount):\n",
    "        if self.__balance >= amount:\n",
    "            self.__balance -= amount\n",
    "        else:\n",
    "            print(\"Insufficient funds.\")\n",
    "\n",
    "    def get_balance(self):\n",
    "        return self.__balance"
   ]
  },
  {
   "cell_type": "markdown",
   "id": "99ec9b48",
   "metadata": {},
   "source": [
    "## Practice Exercises\n",
    "\n",
    "### 1. Create a class Person with attributes name, age, and city.\n",
    "### 2. Create a class Car with attributes make, model, and year.\n",
    "### 3. Create a class Circle with attributes radius and methods to calculate area and circumference.\n",
    "### 4. Create a class Rectangle with attributes length and width and methods to calculate area and perimeter.\n",
    "### 5. Create a class Student with attributes name, roll_number, and marks. Implement a method to calculate the average marks.\n",
    "### 6. Create a class Book with attributes title, author, and publication_year.\n",
    "### 7. Create a class Employee with attributes name, salary, and designation.\n",
    "### 8. Create a class Bank with attributes name, account_number, and balance. Implement methods to deposit and withdraw money.\n",
    "### 9. Create a class Shape with a method to calculate area. Create subclasses Circle, Rectangle, and Triangle that inherit from Shape and implement their specific area calculations.\n",
    "### 10. Create a class Animal with attributes name and sound. Create subclasses Dog, Cat, and Cow that inherit from Animal and implement their specific sounds.\n",
    "\n",
    "## Additional Tips\n",
    "### Use meaningful names for classes, attributes, and methods.\n",
    "### Write clear and concise code.\n",
    "### Use comments to explain complex logic.\n",
    "### Test your code thoroughly.\n",
    "### Consider using inheritance to avoid code duplication.\n",
    "### Encapsulate data to protect it from accidental modification.\n",
    "### Use polymorphism to create flexible and adaptable code."
   ]
  },
  {
   "cell_type": "code",
   "execution_count": 5,
   "id": "cae0ab42",
   "metadata": {},
   "outputs": [
    {
     "name": "stdout",
     "output_type": "stream",
     "text": [
      "Bilal\n",
      "Bilal is 19 years old and belongs to Lahore.\n"
     ]
    }
   ],
   "source": [
    "#Question 1\n",
    "class Person:     #In this line Person is an object of a class\n",
    "    def __init__(self, name, age, city): #In this line name,age and city are the attributes of the object(Person) and init is the Constructor\n",
    "        self.name = name\n",
    "        self.age = age\n",
    "        self.city = city\n",
    "    def person_info(self):\n",
    "        print(f\"{self.name} is {self.age} years old and belongs to {self.city}.\")\n",
    "my_person_info = Person(\"Bilal\", 19,\"Lahore\")\n",
    "print(my_person_info.name)\n",
    "my_person_info.person_info()       #Invoking a function person_info of class"
   ]
  },
  {
   "cell_type": "code",
   "execution_count": null,
   "id": "72b911f5",
   "metadata": {},
   "outputs": [],
   "source": []
  },
  {
   "cell_type": "code",
   "execution_count": 8,
   "id": "a13ff026",
   "metadata": {},
   "outputs": [
    {
     "name": "stdout",
     "output_type": "stream",
     "text": [
      "Bilal is a human being\n",
      "Bilal is an adult.\n"
     ]
    }
   ],
   "source": [
    "# Lab activity\n",
    "class Human:\n",
    "    def __init__(self, name):\n",
    "        self.name = name\n",
    "    def human_info(self):\n",
    "        print(f\"{self.name} is a human being\")\n",
    "\n",
    "class Person(Human):\n",
    "    def drive(self):\n",
    "        print(f'{self.name} is an adult.')\n",
    "\n",
    "my_human_info = Person(\"Bilal\")\n",
    "\n",
    "my_human_info.human_info()\n",
    "my_human_info.drive()        "
   ]
  },
  {
   "cell_type": "code",
   "execution_count": 9,
   "id": "61bc3235",
   "metadata": {},
   "outputs": [
    {
     "name": "stdout",
     "output_type": "stream",
     "text": [
      "Car name: Prius, Car make: japan Launch year: 2013\n"
     ]
    }
   ],
   "source": [
    "#Question 2 \n",
    "class Car:\n",
    "    def __init__(self,make,model,year):\n",
    "        self.make = make\n",
    "        self.model = model\n",
    "        self.year = year \n",
    "    def car_info(self):\n",
    "        print(f\"Car name: {self.model}, Car make: {self.make} Launch year: {self.year}\")\n",
    "my_car_info = Car(\"japan\",\"Prius\",2013)\n",
    "my_car_info.car_info()"
   ]
  },
  {
   "cell_type": "code",
   "execution_count": 11,
   "id": "a5cc7b87",
   "metadata": {},
   "outputs": [
    {
     "name": "stdout",
     "output_type": "stream",
     "text": [
      "Area = 50.285714285714285 Circumference = 25.142857142857142\n"
     ]
    }
   ],
   "source": [
    "#Question 3\n",
    "class Circle:\n",
    "    def __init__(self,radius):\n",
    "        self.radius = radius\n",
    "    def calculation(self):\n",
    "        pi = 22/7\n",
    "        area = pi * (self.radius*self.radius)\n",
    "        circumference = 2 * pi * self.radius\n",
    "        print(f\"Area = {area} Circumference = {circumference}\")\n",
    "my_circle_info = Circle(4)\n",
    "my_circle_info.calculation()"
   ]
  },
  {
   "cell_type": "code",
   "execution_count": 3,
   "id": "e6f615dc",
   "metadata": {},
   "outputs": [
    {
     "name": "stdout",
     "output_type": "stream",
     "text": [
      "Area = 12 Perimeter = 14\n"
     ]
    }
   ],
   "source": [
    "#Question 4\n",
    "class Rectangle:\n",
    "    def __init__(self,length,width):\n",
    "        self.length = length\n",
    "        self.width = width\n",
    "    def calculation(self):\n",
    "        area = self.length * self.width\n",
    "        perimeter = 2 *(self.length + self.width)\n",
    "        print(f\"Area = {area} Perimeter = {perimeter}\")\n",
    "my_rect_info = Rectangle(4,3)\n",
    "my_rect_info.calculation()"
   ]
  },
  {
   "cell_type": "code",
   "execution_count": 9,
   "id": "c8d6c4b0-5498-4639-948d-5dedc618563b",
   "metadata": {},
   "outputs": [
    {
     "name": "stdout",
     "output_type": "stream",
     "text": [
      "Average marks of Bilal = 86.25\n"
     ]
    }
   ],
   "source": [
    "#Question 5\n",
    "class Student:\n",
    "    def __init__(self, name, roll_number, marks):\n",
    "        self.name = name\n",
    "        self.roll_number = roll_number\n",
    "        self.marks = marks \n",
    "    def calculate_average(self):\n",
    "        if len(self.marks) == 0:  \n",
    "            return 0\n",
    "        else:\n",
    "            avg = sum(self.marks) / len(self.marks)\n",
    "            print(f\"Average marks of {self.name} = {avg}\")\n",
    "student1 = Student(\"Bilal\", 101, [85, 90, 78, 92])\n",
    "student1.calculate_average()"
   ]
  },
  {
   "cell_type": "code",
   "execution_count": 13,
   "id": "9f2eb5e9-86ed-4a8d-a9dc-1cad750f8aba",
   "metadata": {},
   "outputs": [
    {
     "name": "stdout",
     "output_type": "stream",
     "text": [
      "Title of the book is Alchemist written by Paulo Coelho amd published in 1988\n"
     ]
    }
   ],
   "source": [
    "#Question 6\n",
    "class Book:\n",
    "    def __init__(self,title,author,publication_year):\n",
    "        self.title = title\n",
    "        self.author = author\n",
    "        self.publication_year = publication_year\n",
    "    def specifications(self):\n",
    "        print(f\"Title of the book is {self.title} written by {self.author} amd published in {self.publication_year}\")\n",
    "my_book_info = Book(\"Alchemist\",\"Paulo Coelho\",1988)\n",
    "my_book_info.specifications()"
   ]
  },
  {
   "cell_type": "code",
   "execution_count": 19,
   "id": "229a8b67-6721-4bf2-8bc1-41b62425f50c",
   "metadata": {},
   "outputs": [
    {
     "name": "stdout",
     "output_type": "stream",
     "text": [
      "Employee name = Bilal Employee Salary = 0 Employee Designation = CEO\n"
     ]
    }
   ],
   "source": [
    "#Question 7\n",
    "class Employee:\n",
    "    def __init__(self,name,salary,designation):\n",
    "        self.name = name\n",
    "        self.salary = salary\n",
    "        self.designation = designation\n",
    "    def employee_info(self):\n",
    "        print(f\"Employee name = {self.name} Employee Salary = {self.salary} Employee Designation = {self.designation}\")\n",
    "my_employee_info = Employee(\"Bilal\",00000,\"CEO\")\n",
    "my_employee_info.employee_info()"
   ]
  },
  {
   "cell_type": "code",
   "execution_count": 21,
   "id": "e7f1d844-f0f0-44b2-bcb5-939fb7138bec",
   "metadata": {},
   "outputs": [
    {
     "name": "stdout",
     "output_type": "stream",
     "text": [
      "Deposited 200uc. New balance: 700uc\n",
      "Withdrew 100uc. New balance: 600uc\n",
      "Insufficient balance.\n"
     ]
    }
   ],
   "source": [
    "#Question 8\n",
    "class Bank:\n",
    "    def __init__(self, name, account_number, balance=0):\n",
    "        self.name = name\n",
    "        self.account_number = account_number\n",
    "        self.balance = balance\n",
    "    def deposit(self, amount):\n",
    "        if amount > 0:\n",
    "            self.balance += amount\n",
    "            print(f\"Deposited {amount}uc. New balance: {self.balance}uc\")\n",
    "        else:\n",
    "            print(\"Deposit amount must be positive.\")\n",
    "    def withdraw(self, amount):\n",
    "        if amount > 0:\n",
    "            if amount <= self.balance:\n",
    "                self.balance -= amount\n",
    "                print(f\"Withdrew {amount}uc. New balance: {self.balance}uc\")\n",
    "            else:\n",
    "                print(\"Insufficient balance.\")\n",
    "        else:\n",
    "            print(\"Withdrawal amount must be positive.\")\n",
    "account1 = Bank(\"Bilal\", \"090078601\", 500)\n",
    "account1.deposit(200)\n",
    "account1.withdraw(100)\n",
    "account1.withdraw(700)  "
   ]
  },
  {
   "cell_type": "code",
   "execution_count": null,
   "id": "d5146f6f-3bf5-481f-b2dd-b0ff74f357a7",
   "metadata": {},
   "outputs": [],
   "source": []
  }
 ],
 "metadata": {
  "kernelspec": {
   "display_name": "Python 3 (ipykernel)",
   "language": "python",
   "name": "python3"
  },
  "language_info": {
   "codemirror_mode": {
    "name": "ipython",
    "version": 3
   },
   "file_extension": ".py",
   "mimetype": "text/x-python",
   "name": "python",
   "nbconvert_exporter": "python",
   "pygments_lexer": "ipython3",
   "version": "3.12.4"
  }
 },
 "nbformat": 4,
 "nbformat_minor": 5
}
